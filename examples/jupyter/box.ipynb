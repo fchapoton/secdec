{
 "cells": [
  {
   "attachments": {},
   "cell_type": "markdown",
   "id": "d85d894b",
   "metadata": {},
   "source": [
    "# ``Box``"
   ]
  },
  {
   "cell_type": "code",
   "execution_count": null,
   "id": "fea5cb12",
   "metadata": {},
   "outputs": [],
   "source": [
    "import sympy as sp\n",
    "import numpy as np\n",
    "import matplotlib.pyplot as plt\n",
    "import pySecDec as psd # Import pySecDec"
   ]
  },
  {
   "attachments": {},
   "cell_type": "markdown",
   "id": "63ece6fb",
   "metadata": {},
   "source": [
    "In this notebook, we experiment with computing a 1-loop box integral:"
   ]
  },
  {
   "attachments": {},
   "cell_type": "markdown",
   "id": "a28bfba5",
   "metadata": {},
   "source": [
    "$$\n",
    "I_4^{D=4-2\\epsilon}(0,0,0,0;s_{12},s_{23},m^2,m^2,m^2,m^2)\n",
    "$$"
   ]
  },
  {
   "attachments": {},
   "cell_type": "markdown",
   "id": "472aa5bd",
   "metadata": {},
   "source": [
    "### Generating an integral library\n",
    "\n",
    "First, we will compute the first, ``U``, and second, ``F``, Symmanzik polynomials"
   ]
  },
  {
   "cell_type": "code",
   "execution_count": null,
   "id": "4275f9ae",
   "metadata": {},
   "outputs": [],
   "source": [
    "li = psd.LoopIntegralFromGraph(\n",
    "    internal_lines = [['m',[1,2]],['m',[2,3]],['m',[3,4]],['m',[4,1]]],\n",
    "    external_lines = [['p1',1],['p2',2],['p3',3],['p4',4]],\n",
    "    replacement_rules = [\n",
    "        ('p1*p1', 0),\n",
    "        ('p2*p2', 0),\n",
    "        ('p3*p3', 0),\n",
    "        ('p4*p4', 0),\n",
    "        ('p1*p2', 's12/2'),\n",
    "        ('p3*p4', 's12/2'),\n",
    "        ('p2*p3', 's23/2'),\n",
    "        ('p1*p4', 's23/2'),\n",
    "        ('p2*p4', '-s12/2-s23/2'),\n",
    "        ('p1*p3', '-s12/2-s23/2'),\n",
    "        ('m**2', 'msq')\n",
    "    ]\n",
    ")\n",
    "print('U:',li.exponentiated_U)\n",
    "print('F:',li.exponentiated_F)"
   ]
  },
  {
   "attachments": {},
   "cell_type": "markdown",
   "id": "64c78ea0",
   "metadata": {},
   "source": [
    "We now generate the C++ code for the box integral, using ``loop_package``:"
   ]
  },
  {
   "cell_type": "code",
   "execution_count": null,
   "id": "17998737",
   "metadata": {},
   "outputs": [],
   "source": [
    "! rm -rf box\n",
    "Mandelstam_symbols = ['s12','s23']\n",
    "mass_symbols = ['msq']\n",
    "psd.loop_package(\n",
    "    name = 'box',\n",
    "    loop_integral = li,\n",
    "    real_parameters = Mandelstam_symbols + mass_symbols,\n",
    "    requested_orders = [0],\n",
    "    decomposition_method = 'geometric'\n",
    ")"
   ]
  },
  {
   "cell_type": "markdown",
   "id": "79d60479",
   "metadata": {},
   "source": [
    "Next, we build the integral library, ready for numerical integration."
   ]
  },
  {
   "cell_type": "code",
   "execution_count": null,
   "id": "2e89b406",
   "metadata": {},
   "outputs": [],
   "source": [
    "! make -C box > /dev/null 2>&1"
   ]
  },
  {
   "attachments": {},
   "cell_type": "markdown",
   "id": "f492bb0b",
   "metadata": {},
   "source": [
    "### Calling the integral library and manipulating the result\n",
    "\n",
    "We now have an integral library ``box/box_pylink.so`` which we can load into python and call to evaluate our integral."
   ]
  },
  {
   "cell_type": "code",
   "execution_count": null,
   "id": "c6d1761b",
   "metadata": {},
   "outputs": [],
   "source": [
    "box = psd.integral_interface.IntegralLibrary('box/box_pylink.so')"
   ]
  },
  {
   "attachments": {},
   "cell_type": "markdown",
   "id": "262c0dce",
   "metadata": {},
   "source": [
    "The library will return: \n",
    "* the integral result without prefactors, \n",
    "* the prefactor\n",
    "* the integral result with prefactors. \n",
    "\n",
    "Usually, we only care about the result with the prefactor, so we will use only that part of the output. In this case the prefactor is also just ``1``.\n",
    "\n",
    "We begin by evaluating our integral at the point ``s=4.1, t=-2.2, msq=1``."
   ]
  },
  {
   "cell_type": "code",
   "execution_count": null,
   "id": "bf9a0024",
   "metadata": {},
   "outputs": [],
   "source": [
    "_, _, result = box([4.1,-2.2,1.])\n",
    "print(result)"
   ]
  },
  {
   "cell_type": "markdown",
   "id": "af98671f",
   "metadata": {},
   "source": [
    "The result returned by our library is just a string encoding the full result, it depends on all regulators and also tells us the numerical uncertainy on the result. We have convenience functions for converting the output to a format compatible with various symbolic libraries. Here we will use the sympy output format."
   ]
  },
  {
   "cell_type": "code",
   "execution_count": null,
   "id": "f544243e",
   "metadata": {},
   "outputs": [],
   "source": [
    "result_sympy = psd.integral_interface.series_to_sympy(result)"
   ]
  },
  {
   "cell_type": "code",
   "execution_count": null,
   "id": "2d61c6a9",
   "metadata": {},
   "outputs": [],
   "source": [
    "print('res:', result_sympy[0]) # Result\n",
    "print('err:', result_sympy[1]) # Numerical uncertainty "
   ]
  },
  {
   "attachments": {},
   "cell_type": "markdown",
   "id": "ea9f524e",
   "metadata": {},
   "source": [
    "We can pick out the finite part of the result using sympy's ``Poly`` module:\n",
    "* First we strip the trailing ``+ O(eps)`` (Big-O notation) from the string.\n",
    "* Next, we convert the result to a sympy expression and separate the real and imaginary part"
   ]
  },
  {
   "cell_type": "code",
   "execution_count": null,
   "id": "3eb2fae1",
   "metadata": {},
   "outputs": [],
   "source": [
    "if result_sympy[0].endswith('+ O(eps)'):\n",
    "    result_sympy_stripped = sp.sympify(result_sympy[0][:-8]).as_real_imag()\n",
    "print(result_sympy_stripped[0])"
   ]
  },
  {
   "cell_type": "markdown",
   "id": "8323eef6",
   "metadata": {},
   "source": [
    "### Plotting the result for different values of the real_parameters\n",
    "\n",
    "We can also numerically compute our integral at several points, by repeatedly calling the library."
   ]
  },
  {
   "cell_type": "code",
   "execution_count": null,
   "id": "71ec6415",
   "metadata": {},
   "outputs": [],
   "source": [
    "xx = []\n",
    "yy_re = []\n",
    "yy_im = []\n",
    "for ss in np.arange(0.01,10,0.1):\n",
    "    _, _, result = box([ss,-2.2,1])\n",
    "    xx.append(ss)\n",
    "    result_sympy = psd.integral_interface.series_to_sympy(result)\n",
    "    result_sympy_stripped = sp.sympify(result_sympy[0][:-8]).as_real_imag()\n",
    "    yy_re.append(result_sympy_stripped[0])\n",
    "    yy_im.append(result_sympy_stripped[1])"
   ]
  },
  {
   "cell_type": "code",
   "execution_count": null,
   "id": "86cf2d80",
   "metadata": {},
   "outputs": [],
   "source": [
    "plt.plot(xx,yy_re,marker='o')\n",
    "plt.plot(xx,yy_im,marker='x')"
   ]
  }
 ],
 "metadata": {
  "kernelspec": {
   "display_name": "Python 3",
   "language": "python",
   "name": "python3"
  },
  "language_info": {
   "codemirror_mode": {
    "name": "ipython",
    "version": 3
   },
   "file_extension": ".py",
   "mimetype": "text/x-python",
   "name": "python",
   "nbconvert_exporter": "python",
   "pygments_lexer": "ipython3",
   "version": "3.9.10"
  },
  "vscode": {
   "interpreter": {
    "hash": "aee8b7b246df8f9039afb4144a1f6fd8d2ca17a180786b69acc140d282b71a49"
   }
  }
 },
 "nbformat": 4,
 "nbformat_minor": 5
}
